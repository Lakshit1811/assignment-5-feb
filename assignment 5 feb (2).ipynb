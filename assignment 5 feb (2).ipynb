{
 "cells": [
  {
   "cell_type": "raw",
   "id": "fbc0d11c-d7cf-46ed-b295-5cda813f8433",
   "metadata": {},
   "source": [
    "Class: In Object-Oriented Programming (OOP), a class is a blueprint or a template for creating objects (instances of the class). A class defines the attributes (data members) and behaviors (member functions or methods) of the objects that belong to the class. Classes are the foundation of OOP, and objects are instances of classes.\n",
    "\n",
    "Object: An object is an instance of a class. It is a runtime entity with state and behavior. Objects can be created by using the class as a blueprint, and they can interact with each other through methods defined in the class"
   ]
  },
  {
   "cell_type": "raw",
   "id": "158112f5-0fc6-4442-8efd-e78ae4f194ce",
   "metadata": {},
   "source": [
    "The four pillars of Object-Oriented Programming (OOP) are:\n",
    "\n",
    "Abstraction: The process of hiding complex implementation details from the user and presenting only essential information.\n",
    "\n",
    "Encapsulation: The practice of wrapping data and behavior (methods) within an object, making it self-contained and protected from external access or modification.\n",
    "\n",
    "Inheritance: The ability of a class to inherit properties and behavior from a parent class, allowing for code reusability and creating a hierarchical structure of related classes.\n",
    "\n",
    "Polymorphism: The ability of objects to take on many forms, meaning the same method can be used for objects of different classes, allowing for dynamic and flexible code.\n"
   ]
  },
  {
   "cell_type": "markdown",
   "id": "a118e5c1-7730-41fe-861d-8609270b7512",
   "metadata": {},
   "source": [
    "The _init_ function is a special method in Python that is automatically called when an object is created from a class. It is also known as the constructor method.\n",
    "\n",
    "The _init_ function is used to initialize the attributes of the object when it is created. It provides a way to set default values or perform any other necessary setup for the object before it is used.\n",
    "\n",
    "Here's an example of how _init_ can be used in a class\n",
    "class Person:\n",
    "    def _init_(self, name, age):\n",
    "        self.name = name\n",
    "        self.age = age\n",
    "        \n",
    "        person1 = Person(\"rahul\", 30)\n",
    "        person2 = Person(\"pw\", 25)\n",
    "        \n",
    "        print(person1.name, person1.age)"
   ]
  },
  {
   "cell_type": "markdown",
   "id": "fb27ca36-2bb7-4a8b-945c-5ffaba140a77",
   "metadata": {},
   "source": [
    "The self keyword is used in Object-Oriented Programming (OOP) in Python to refer to the instance of an object. In other words, self is used to access the attributes and methods of an object from within the object itself.\n",
    "\n",
    "When a method is called on an object, the object itself is passed as the first argument to the method. By convention, this argument is named self so that the methods within the object have access to the object's attributes and methods.\n",
    "\n",
    "Here's an example of how self can be used in a class\n",
    "class Person:\n",
    "    def _init_(self, name, age):\n",
    "        self.name = name\n",
    "        self.age = age\n",
    "\n",
    "    def introduce(self):\n",
    "        print(f\"Hi, my name is {self.name} and I am {self.age} years old.\")"
   ]
  },
  {
   "cell_type": "markdown",
   "id": "0434f460-83b1-455f-8728-8e3f55b242f1",
   "metadata": {},
   "source": [
    "Inheritance is a mechanism in Object-Oriented Programming (OOP) that allows a new class to inherit the properties and behaviors of an existing class, called the base class or parent class. The newly created class is called the derived class or child class.\n",
    "\n",
    "There are several types of inheritance in OOP:\n",
    "\n",
    "Single inheritance: A derived class inherits from a single base class. The derived class adds new attributes and behaviors, and can also override the attributes and behaviors of the base class.\n",
    "class Animal:\n",
    "    def _init_(self, name, species):\n",
    "        self.name = name\n",
    "        self.species = species\n",
    "\n",
    "    def show_info(self):\n",
    "        print(f\"Name: {self.name}\")\n",
    "        print(f\"Species: {self.species}\")\n",
    "\n",
    "class Dog(Animal):\n",
    "    def _init_(self, name, breed):\n",
    "        Animal._init_(self, name, species=\"Dog\")\n",
    "        self.breed = bread"
   ]
  },
  {
   "cell_type": "markdown",
   "id": "c862b405-575e-4384-8e48-1aed1ab2fe5f",
   "metadata": {},
   "source": [
    "Multiple inheritance: A derived class inherits from multiple base classes\n",
    "class Vehicle:\n",
    "    def _init_(self, make, model):\n",
    "        self.make = make\n",
    "        self.model = model\n",
    "\n",
    "class Engine:\n",
    "    def _init_(self, power):\n",
    "        self.power = power\n",
    "\n",
    "class Car(Vehicle, Engine):\n",
    "    def _init_(self, make, model, power):\n",
    "        Vehicle._init_(self, make, model)\n",
    "        Engine._init_(self, power)"
   ]
  },
  {
   "cell_type": "markdown",
   "id": "cdef21c6-5710-4728-a5b4-4584de3c8d02",
   "metadata": {},
   "source": [
    "Multi-level inheritance: In multi-level inheritance, a subclass inherits from a superclass, which in turn inherits from another superclass.\n",
    "class Shape:\n",
    "    def _init_(self, sides):\n",
    "        self.sides = sides\n",
    "\n",
    "class Polygon(Shape):\n",
    "    def _init_(self, sides, vertices):\n",
    "        Shape._init_(self, sides)\n",
    "        self.vertices = vertices\n",
    "\n",
    "class Triangle(Polygon):\n",
    "    def _init_(self, vertices):\n",
    "        Polygon._init_(self, sides=3, vertices=vertices)"
   ]
  },
  {
   "cell_type": "markdown",
   "id": "80c60ffd-e5b4-47b0-80db-0b65d3703ef6",
   "metadata": {},
   "source": [
    "Hierarchical inheritance: In hierarchical inheritance, a single base class is inherited by multiple subclasses\n",
    "class Animal:\n",
    "    def _init_(self, species, sound):\n",
    "        self.species = species\n",
    "        self.sound = sound\n",
    "\n",
    "    def make_sound(self):\n",
    "        print(self.sound)\n",
    "\n",
    "class Dog(Animal):\n",
    "    def _init_(self, breed):\n",
    "        Animal._init_(self, species=\"Dog\", sound=\"Woof\")\n",
    "        self.breed = breed\n",
    "\n",
    "class Cat"
   ]
  }
 ],
 "metadata": {
  "kernelspec": {
   "display_name": "Python 3 (ipykernel)",
   "language": "python",
   "name": "python3"
  },
  "language_info": {
   "codemirror_mode": {
    "name": "ipython",
    "version": 3
   },
   "file_extension": ".py",
   "mimetype": "text/x-python",
   "name": "python",
   "nbconvert_exporter": "python",
   "pygments_lexer": "ipython3",
   "version": "3.10.8"
  }
 },
 "nbformat": 4,
 "nbformat_minor": 5
}
